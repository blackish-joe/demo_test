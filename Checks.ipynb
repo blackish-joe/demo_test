{
    "cells": [
        {
            "metadata": {},
            "cell_type": "code",
            "source": "\nimport os, types\nimport pandas as pd\nfrom botocore.client import Config\nimport ibm_boto3\n\ndef __iter__(self): return 0\n\n# @hidden_cell\n# The following code accesses a file in your IBM Cloud Object Storage. It includes your credentials.\n# You might want to remove those credentials before you share the notebook.\ncos_client = ibm_boto3.client(service_name='s3',\n    ibm_api_key_id='YHEAhUboejWkSo-_12kEIrmwBT3asTMHq5pC1FB3iMYv',\n    ibm_auth_endpoint=\"https://iam.cloud.ibm.com/oidc/token\",\n    config=Config(signature_version='oauth'),\n    endpoint_url='https://s3.private.eu.cloud-object-storage.appdomain.cloud')\n\nbucket = 'learning-donotdelete-pr-vla89btdszszpf'\nobject_key = 'updated rectification list.xlsx'\n\nbody = cos_client.get_object(Bucket=bucket,Key=object_key)['Body']\n\ndf_data_0 = pd.read_excel(body.read())\ndf_data_0.head(200)\n",
            "execution_count": 5,
            "outputs": [
                {
                    "output_type": "execute_result",
                    "execution_count": 5,
                    "data": {
                        "text/plain": "                       Full name  Matric number\n0         Ibrahim Ayodeji Ibukun    20180204131\n1          Kazeem Ayomide Peter     20180204086\n2            Dada Alfred Ayomide    20180204354\n3       Ogundele adedamola paul     20180204276\n4      Lawal Ezekiel Oluwasegun     20180204221\n..                           ...            ...\n100           Rasaq rasaq funsho    20180204202\n101   Akinlade Adeola Hephzibah     20180204370\n102        Eze Franscisca Oluchi    20190204217\n103  Oyekunle kehinde Akolawole     20180204369\n104  Abolaji Taofeek Olasunkanmi    20180204041\n\n[105 rows x 2 columns]",
                        "text/html": "<div>\n<style scoped>\n    .dataframe tbody tr th:only-of-type {\n        vertical-align: middle;\n    }\n\n    .dataframe tbody tr th {\n        vertical-align: top;\n    }\n\n    .dataframe thead th {\n        text-align: right;\n    }\n</style>\n<table border=\"1\" class=\"dataframe\">\n  <thead>\n    <tr style=\"text-align: right;\">\n      <th></th>\n      <th>Full name</th>\n      <th>Matric number</th>\n    </tr>\n  </thead>\n  <tbody>\n    <tr>\n      <th>0</th>\n      <td>Ibrahim Ayodeji Ibukun</td>\n      <td>20180204131</td>\n    </tr>\n    <tr>\n      <th>1</th>\n      <td>Kazeem Ayomide Peter</td>\n      <td>20180204086</td>\n    </tr>\n    <tr>\n      <th>2</th>\n      <td>Dada Alfred Ayomide</td>\n      <td>20180204354</td>\n    </tr>\n    <tr>\n      <th>3</th>\n      <td>Ogundele adedamola paul</td>\n      <td>20180204276</td>\n    </tr>\n    <tr>\n      <th>4</th>\n      <td>Lawal Ezekiel Oluwasegun</td>\n      <td>20180204221</td>\n    </tr>\n    <tr>\n      <th>...</th>\n      <td>...</td>\n      <td>...</td>\n    </tr>\n    <tr>\n      <th>100</th>\n      <td>Rasaq rasaq funsho</td>\n      <td>20180204202</td>\n    </tr>\n    <tr>\n      <th>101</th>\n      <td>Akinlade Adeola Hephzibah</td>\n      <td>20180204370</td>\n    </tr>\n    <tr>\n      <th>102</th>\n      <td>Eze Franscisca Oluchi</td>\n      <td>20190204217</td>\n    </tr>\n    <tr>\n      <th>103</th>\n      <td>Oyekunle kehinde Akolawole</td>\n      <td>20180204369</td>\n    </tr>\n    <tr>\n      <th>104</th>\n      <td>Abolaji Taofeek Olasunkanmi</td>\n      <td>20180204041</td>\n    </tr>\n  </tbody>\n</table>\n<p>105 rows \u00d7 2 columns</p>\n</div>"
                    },
                    "metadata": {}
                }
            ]
        },
        {
            "metadata": {},
            "cell_type": "code",
            "source": "",
            "execution_count": null,
            "outputs": []
        }
    ],
    "metadata": {
        "kernelspec": {
            "name": "python3",
            "display_name": "Python 3.10",
            "language": "python"
        },
        "language_info": {
            "name": "python",
            "version": "3.10.6",
            "mimetype": "text/x-python",
            "codemirror_mode": {
                "name": "ipython",
                "version": 3
            },
            "pygments_lexer": "ipython3",
            "nbconvert_exporter": "python",
            "file_extension": ".py"
        }
    },
    "nbformat": 4,
    "nbformat_minor": 1
}