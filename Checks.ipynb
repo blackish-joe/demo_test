{
    "cells": [
        {
            "cell_type": "code",
            "execution_count": 5,
            "metadata": {},
            "outputs": [
                {
                    "data": {
                        "text/html": "<div>\n<style scoped>\n    .dataframe tbody tr th:only-of-type {\n        vertical-align: middle;\n    }\n\n    .dataframe tbody tr th {\n        vertical-align: top;\n    }\n\n    .dataframe thead th {\n        text-align: right;\n    }\n</style>\n<table border=\"1\" class=\"dataframe\">\n  <thead>\n    <tr style=\"text-align: right;\">\n      <th></th>\n      <th>Full name</th>\n      <th>Matric number</th>\n    </tr>\n  </thead>\n  <tbody>\n    <tr>\n      <th>0</th>\n      <td>Ibrahim Ayodeji Ibukun</td>\n      <td>20180204131</td>\n    </tr>\n    <tr>\n      <th>1</th>\n      <td>Kazeem Ayomide Peter</td>\n      <td>20180204086</td>\n    </tr>\n    <tr>\n      <th>2</th>\n      <td>Dada Alfred Ayomide</td>\n      <td>20180204354</td>\n    </tr>\n    <tr>\n      <th>3</th>\n      <td>Ogundele adedamola paul</td>\n      <td>20180204276</td>\n    </tr>\n    <tr>\n      <th>4</th>\n      <td>Lawal Ezekiel Oluwasegun</td>\n      <td>20180204221</td>\n    </tr>\n    <tr>\n      <th>...</th>\n      <td>...</td>\n      <td>...</td>\n    </tr>\n    <tr>\n      <th>100</th>\n      <td>Rasaq rasaq funsho</td>\n      <td>20180204202</td>\n    </tr>\n    <tr>\n      <th>101</th>\n      <td>Akinlade Adeola Hephzibah</td>\n      <td>20180204370</td>\n    </tr>\n    <tr>\n      <th>102</th>\n      <td>Eze Franscisca Oluchi</td>\n      <td>20190204217</td>\n    </tr>\n    <tr>\n      <th>103</th>\n      <td>Oyekunle kehinde Akolawole</td>\n      <td>20180204369</td>\n    </tr>\n    <tr>\n      <th>104</th>\n      <td>Abolaji Taofeek Olasunkanmi</td>\n      <td>20180204041</td>\n    </tr>\n  </tbody>\n</table>\n<p>105 rows \u00d7 2 columns</p>\n</div>",
                        "text/plain": "                       Full name  Matric number\n0         Ibrahim Ayodeji Ibukun    20180204131\n1          Kazeem Ayomide Peter     20180204086\n2            Dada Alfred Ayomide    20180204354\n3       Ogundele adedamola paul     20180204276\n4      Lawal Ezekiel Oluwasegun     20180204221\n..                           ...            ...\n100           Rasaq rasaq funsho    20180204202\n101   Akinlade Adeola Hephzibah     20180204370\n102        Eze Franscisca Oluchi    20190204217\n103  Oyekunle kehinde Akolawole     20180204369\n104  Abolaji Taofeek Olasunkanmi    20180204041\n\n[105 rows x 2 columns]"
                    },
                    "execution_count": 5,
                    "metadata": {},
                    "output_type": "execute_result"
                }
            ],
            "source": "# The code was removed by Watson Studio for sharing."
        },
        {
            "cell_type": "code",
            "execution_count": null,
            "metadata": {},
            "outputs": [],
            "source": ""
        }
    ],
    "metadata": {
        "kernelspec": {
            "display_name": "Python 3.10",
            "language": "python",
            "name": "python3"
        },
        "language_info": {
            "codemirror_mode": {
                "name": "ipython",
                "version": 3
            },
            "file_extension": ".py",
            "mimetype": "text/x-python",
            "name": "python",
            "nbconvert_exporter": "python",
            "pygments_lexer": "ipython3",
            "version": "3.10.6"
        }
    },
    "nbformat": 4,
    "nbformat_minor": 1
}